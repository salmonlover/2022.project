{
  "nbformat": 4,
  "nbformat_minor": 0,
  "metadata": {
    "colab": {
      "name": "최종 프로젝트 - 뽑기(박새싹).ipynb",
      "provenance": [],
      "authorship_tag": "ABX9TyN1aTbWXSFg0ghWK51Ti87Y",
      "include_colab_link": true
    },
    "kernelspec": {
      "name": "python3",
      "display_name": "Python 3"
    },
    "language_info": {
      "name": "python"
    }
  },
  "cells": [
    {
      "cell_type": "markdown",
      "metadata": {
        "id": "view-in-github",
        "colab_type": "text"
      },
      "source": [
        "<a href=\"https://colab.research.google.com/github/salmonlover/2022.project/blob/main/%EC%B5%9C%EC%A2%85_%ED%94%84%EB%A1%9C%EC%A0%9D%ED%8A%B8_%EB%BD%91%EA%B8%B0(%EB%B0%95%EC%83%88%EC%8B%B9).ipynb\" target=\"_parent\"><img src=\"https://colab.research.google.com/assets/colab-badge.svg\" alt=\"Open In Colab\"/></a>"
      ]
    },
    {
      "cell_type": "code",
      "source": [
        "from collections import namedtuple\n",
        "#행운의 학생 뽑기 - 리스트에 이름을 추가하여 확률 높이기\n",
        "import csv\n",
        "data = csv.reader(open('명단.csv', encoding = 'cp949'))\n",
        "next(data)\n",
        "\n",
        "name = []     #이름 리스트 생성\n",
        "for row in data :\n",
        "  name.append(row[1]) #데이터에서 이름 영역 설정\n",
        "\n",
        "answer = print('이름을 입력합니다.')\n",
        "while answer != '끝' :    #끝이 입력될 때까지 반복\n",
        "  answer = input('이름을 입력하세요.(학생이름 또는 끝): ')\n",
        "  name.append(answer)   #입력된 이름 리스트에 등록하기\n",
        "else :\n",
        "  print('--------------------------------------------------------------')\n",
        "  print('뽑기를 시작합니다.')\n",
        "\n",
        "del name[-1]    #마지막에 입력된 '끝'을 리스트에서 삭제하기\n",
        "\n",
        "import time\n",
        "import random\n",
        "time.sleep(2)\n",
        "print('****************************************************************')\n",
        "print('축하합니다!' + random.choice(name) + ' 학생이 발표하겠습니다!')\n",
        "print('****************************************************************')"
      ],
      "metadata": {
        "colab": {
          "base_uri": "https://localhost:8080/"
        },
        "id": "chqZwQSX186B",
        "outputId": "b61e1419-f6c6-4ee4-8d76-6c6c513c4ba8"
      },
      "execution_count": 5,
      "outputs": [
        {
          "output_type": "stream",
          "name": "stdout",
          "text": [
            "이름을 입력합니다.\n",
            "이름을 입력하세요.(학생이름 또는 끝): 피카츄\n",
            "이름을 입력하세요.(학생이름 또는 끝): 피카츄\n",
            "이름을 입력하세요.(학생이름 또는 끝): 피카츄\n",
            "이름을 입력하세요.(학생이름 또는 끝): 피카츄\n",
            "이름을 입력하세요.(학생이름 또는 끝): 피카츄\n",
            "이름을 입력하세요.(학생이름 또는 끝): 피카츄\n",
            "이름을 입력하세요.(학생이름 또는 끝): 피카츄\n",
            "이름을 입력하세요.(학생이름 또는 끝): 피카츄\n",
            "이름을 입력하세요.(학생이름 또는 끝): 끝\n",
            "--------------------------------------------------------------\n",
            "뽑기를 시작합니다.\n",
            "****************************************************************\n",
            "축하합니다!피카츄 학생이 발표하겠습니다!\n",
            "****************************************************************\n"
          ]
        }
      ]
    },
    {
      "cell_type": "code",
      "execution_count": 8,
      "metadata": {
        "colab": {
          "base_uri": "https://localhost:8080/"
        },
        "id": "Y8WepLby0eGn",
        "outputId": "5185bbb6-6652-4c30-ed26-1c2db9f459de"
      },
      "outputs": [
        {
          "output_type": "stream",
          "name": "stdout",
          "text": [
            "뭐가 나올까요? 랜덤 뽑기!\n",
            "-----------------------------------------------------------------------\n",
            "뽑기에 참여하 할 학생 이름을 입력합니다. \n",
            "학생 이름을 입력하세요.: 김보미\n",
            "학생 이름을 입력하세요.: 한여름\n",
            "학생 이름을 입력하세요.: 박가을\n",
            "학생 이름을 입력하세요.: 이겨울\n",
            "학생 이름을 입력하세요.: 끝\n",
            "--------------------------------------------------------------\n",
            "상품을 입력합니다.\n",
            "상품을 입력하세요.: 초코\n",
            "상품을 입력하세요.: 청소\n",
            "상품을 입력하세요.: 독후감 쓰기\n",
            "상품을 입력하세요.: 급식 1등\n",
            "상품을 입력하세요.: 사탕\n",
            "상품을 입력하세요.: 마이쮸\n",
            "상품을 입력하세요.: 끝\n",
            "-----------------------------------------------------------------------\n",
            "김보미 학생은 독후감 쓰기 당첨!\n",
            "이겨울 학생은 초코 당첨!\n",
            "한여름 학생은 독후감 쓰기 당첨!\n",
            "박가을 학생은 급식 1등 당첨!\n"
          ]
        }
      ],
      "source": [
        "#사다리타기 뽑기\n",
        "import time\n",
        "import random\n",
        "\n",
        "print('뭐가 나올까요? 랜덤 뽑기!')\n",
        "\n",
        "name = []\n",
        "result = []\n",
        "time.sleep(1)\n",
        "print('-----------------------------------------------------------------------')\n",
        "a = print('뽑기에 참여하 할 학생 이름을 입력합니다. ')\n",
        "while a != '끝' :\n",
        "  a = input('학생 이름을 입력하세요.: ')\n",
        "  name.append(a)   \n",
        "else :\n",
        "  print('--------------------------------------------------------------')\n",
        "  r = print('상품을 입력합니다.')\n",
        " \n",
        "while r != '끝' :\n",
        "  r = input('상품을 입력하세요.: ')\n",
        "  result.append(r)\n",
        "print('-----------------------------------------------------------------------')\n",
        "time.sleep(1)\n",
        "\n",
        "del name[-1]\n",
        "del result[-1]\n",
        "\n",
        "for i in range(len(name)) :\n",
        "  s1 = random.choice(name)\n",
        "  r1 = random.choice(result)\n",
        "  print(s1 + ' 학생은', r1+ ' 당첨!')\n",
        "  name.remove(s1)\n"
      ]
    }
  ]
}